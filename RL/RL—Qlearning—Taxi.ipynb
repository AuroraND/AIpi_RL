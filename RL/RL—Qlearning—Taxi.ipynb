{
 "cells": [
  {
   "cell_type": "code",
   "execution_count": 3,
   "metadata": {},
   "outputs": [],
   "source": [
    "import gym\n",
    "import numpy as np\n",
    "import pandas as pd\n",
    "import time"
   ]
  },
  {
   "cell_type": "markdown",
   "metadata": {},
   "source": [
    "### 初始化准备"
   ]
  },
  {
   "cell_type": "code",
   "execution_count": 4,
   "metadata": {},
   "outputs": [],
   "source": [
    "# 创建环境\n",
    "env = gym.make(\"Taxi-v3\",render_mode='ansi').unwrapped\n",
    "# 动作\n",
    "actions = [0, 1, 2, 3, 4, 5]\n",
    "# 动作维度\n",
    "action_size = env.action_space.n\n",
    "# 状态维度\n",
    "state_size = env.observation_space.n\n",
    "# 创建Q表\n",
    "q_table = np.zeros((state_size, action_size))\n",
    "# 学习率\n",
    "learning_rate = 0.9\n",
    "# 贪心策略选择初始概率\n",
    "epsilon_start = 1\n",
    "# 最终贪心策略选择概率\n",
    "epsilon_end = 0.02\n",
    "# 衰减系数\n",
    "decay_rate = 0.95\n",
    "# 对未来奖励的折扣\n",
    "gamma = 0.9\n",
    "# 训练迭代次数\n",
    "total_episode = 5000\n",
    "# 每回合训练最大步数\n",
    "step_max = 50"
   ]
  },
  {
   "cell_type": "markdown",
   "metadata": {},
   "source": [
    "### 根据当前状态和Q-value表选择动作"
   ]
  },
  {
   "cell_type": "code",
   "execution_count": 5,
   "metadata": {},
   "outputs": [],
   "source": [
    "def choose_action(state, epsilon, q_table):\n",
    "    # 生成0-1随机数\n",
    "    rand = np.random.uniform(0, 1)\n",
    "    # 以epsilon概率选择q值最高的行动\n",
    "    if rand > epsilon:\n",
    "        state_actions = q_table[state, :]\n",
    "        max_indexs = np.argwhere(state_actions == np.max(state_actions)).flatten()\n",
    "        action = np.random.choice(max_indexs)\n",
    "    # 随机采取行动\n",
    "    else:\n",
    "        action = np.random.choice(actions)\n",
    "    # 返回动作\n",
    "    return action"
   ]
  },
  {
   "cell_type": "markdown",
   "metadata": {},
   "source": [
    "### 训练模型获取Q表"
   ]
  },
  {
   "cell_type": "code",
   "execution_count": 6,
   "metadata": {},
   "outputs": [],
   "source": [
    "# 测试训练模型q表\n",
    "for episode in range(total_episode):\n",
    "    # 初始状态\n",
    "    state = env.reset()[0]\n",
    "    # 初始化步数\n",
    "    step = 0\n",
    "    # 渲染画面\n",
    "    # env.render()\n",
    "\n",
    "    while True:\n",
    "        # 根据当前状态选择动作\n",
    "        action = choose_action(state, epsilon_start, q_table)\n",
    "\n",
    "        # 根据动作得到下一步状态、奖励等\n",
    "        new_state, reward, done, info, _ = env.step(action)\n",
    "\n",
    "        # 环境更新\n",
    "        # env.render()\n",
    "\n",
    "        if (done and reward == 0) or (state == new_state):\n",
    "            reward = -1\n",
    "\n",
    "        # 根据状态奖励学习并更新q表\n",
    "        if done:\n",
    "            q_table[state, action] = reward\n",
    "            break\n",
    "        else:\n",
    "            # 当前q表原状态该动作下估计价值\n",
    "            q_predict = q_table[state, action]\n",
    "            # 原状态当前动作下目标价值\n",
    "            q_target = reward + gamma * np.max(q_table[new_state, :])\n",
    "            # 以一定学习效率更新原状态当前动作下估计值\n",
    "            q_table[state, action] += learning_rate * (q_target - q_predict)\n",
    "\n",
    "        # 更新状态\n",
    "        state = new_state\n",
    "        step = step + 1\n",
    "\n",
    "        if step > step_max:\n",
    "            break\n",
    "\n",
    "    if epsilon_start > epsilon_end:\n",
    "        epsilon_start *= decay_rate"
   ]
  },
  {
   "cell_type": "markdown",
   "metadata": {},
   "source": [
    "### Q-value表展示"
   ]
  },
  {
   "cell_type": "code",
   "execution_count": 7,
   "metadata": {},
   "outputs": [
    {
     "name": "stdout",
     "output_type": "stream",
     "text": [
      "[[ 0.          0.          0.          0.          0.          0.        ]\n",
      " [-0.63127495 -5.29747472 -0.63173847 -0.11542959  1.62261467 -0.11542959]\n",
      " [ 4.34042869  4.91677625  3.46844691 -4.32130748  7.7147      4.90616085]\n",
      " ...\n",
      " [-3.75967855  9.66698459 -3.75967855 -3.8050514  -3.75967855 -3.75967855]\n",
      " [-4.32130748 -4.39439248 -4.32130748 -4.87309394 -4.32130748 -4.32130748]\n",
      " [ 0.         11.8698813   0.         -0.9        -0.9        -0.9       ]]\n"
     ]
    }
   ],
   "source": [
    "print(q_table)"
   ]
  },
  {
   "cell_type": "markdown",
   "metadata": {},
   "source": [
    "### 根据Q表在taxi环境中测试"
   ]
  },
  {
   "cell_type": "code",
   "execution_count": 8,
   "metadata": {},
   "outputs": [
    {
     "name": "stdout",
     "output_type": "stream",
     "text": [
      "15\n"
     ]
    }
   ],
   "source": [
    "# 测试结果\n",
    "# 初始化状态\n",
    "state = env.reset()[0]\n",
    "step = 0\n",
    "# 渲染环境\n",
    "env.render()\n",
    "\n",
    "while True:\n",
    "\n",
    "    # 根据状态选择动作\n",
    "    action = choose_action(state, epsilon_end, q_table)\n",
    "\n",
    "    # 更新环境\n",
    "    new_state, reward, done, info, _ = env.step(action)\n",
    "    env.render()\n",
    "\n",
    "    # 更新状态\n",
    "    state = new_state\n",
    "    step += 1\n",
    "\n",
    "    if done or step > step_max:\n",
    "        break\n",
    "\n",
    "print(step)\n",
    "env.close()"
   ]
  }
 ],
 "metadata": {
  "kernelspec": {
   "display_name": "base",
   "language": "python",
   "name": "python3"
  },
  "language_info": {
   "codemirror_mode": {
    "name": "ipython",
    "version": 3
   },
   "file_extension": ".py",
   "mimetype": "text/x-python",
   "name": "python",
   "nbconvert_exporter": "python",
   "pygments_lexer": "ipython3",
   "version": "3.10.0"
  }
 },
 "nbformat": 4,
 "nbformat_minor": 2
}
